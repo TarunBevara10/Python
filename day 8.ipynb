{
 "cells": [
  {
   "cell_type": "code",
   "execution_count": 3,
   "metadata": {},
   "outputs": [
    {
     "name": "stdout",
     "output_type": "stream",
     "text": [
      "Sorted array is:\n",
      "11\n",
      "12\n",
      "22\n",
      "25\n",
      "34\n",
      "64\n",
      "90\n"
     ]
    }
   ],
   "source": [
    "def bubbleSort(a):\n",
    "    n = len(a)\n",
    "    for i in range(n):\n",
    "        for j in range(0, n-i-1):        \n",
    "            if a[j] > a[j+1] :\n",
    "                a[j], a[j+1] = a[j+1], a[j]\n",
    "a = [64, 34, 25, 12, 22, 11, 90]\n",
    " \n",
    "bubbleSort(a)\n",
    " \n",
    "print (\"Sorted array is:\")\n",
    "for i in range(len(a)):\n",
    "    print (a[i]) "
   ]
  },
  {
   "cell_type": "code",
   "execution_count": 4,
   "metadata": {
    "scrolled": false
   },
   "outputs": [
    {
     "name": "stdout",
     "output_type": "stream",
     "text": [
      "Application\n",
      "str[0]=  A\n",
      "str[1]=  p\n",
      "str[-1]=  n\n",
      "str[-3]=  i\n",
      "str[1:5]=  ppli\n",
      "str[:5]=  Appli\n",
      "str[5:-2]=  cati\n"
     ]
    }
   ],
   "source": [
    "str = \"Application\"\n",
    "print(str)\n",
    "print(\"str[0]= \",str[0])\n",
    "print(\"str[1]= \",str[1])\n",
    "print(\"str[-1]= \",str[-1])\n",
    "print(\"str[-3]= \",str[-3])\n",
    "print(\"str[1:5]= \",str[1:5])\n",
    "print(\"str[:5]= \",str[:5])\n",
    "print(\"str[5:-2]= \",str[5:-2])#used for a string"
   ]
  },
  {
   "cell_type": "code",
   "execution_count": 10,
   "metadata": {},
   "outputs": [
    {
     "name": "stdout",
     "output_type": "stream",
     "text": [
      "False\n",
      "True\n"
     ]
    }
   ],
   "source": [
    "def ispalindrome(s):\n",
    "    if s == s[::-1]:\n",
    "        return True\n",
    "    else:\n",
    "        return False\n",
    "print(ispalindrome(\"python\"))\n",
    "print(ispalindrome(\"jalaj\"))"
   ]
  },
  {
   "cell_type": "code",
   "execution_count": 12,
   "metadata": {},
   "outputs": [
    {
     "name": "stdout",
     "output_type": "stream",
     "text": [
      "1889None\n"
     ]
    }
   ],
   "source": [
    "def printdigits(str):\n",
    "    lst=list(str)\n",
    "    for x in range(len(lst)):\n",
    "        if ord(lst[x])>=48 and ord(lst[x])<=57:\n",
    "            print(lst[x],end=\"\")\n",
    "print(printdigits(\"application1889\"))"
   ]
  },
  {
   "cell_type": "code",
   "execution_count": 13,
   "metadata": {},
   "outputs": [
    {
     "ename": "IndentationError",
     "evalue": "expected an indented block (<ipython-input-13-bb1481cc4540>, line 6)",
     "output_type": "error",
     "traceback": [
      "\u001b[1;36m  File \u001b[1;32m\"<ipython-input-13-bb1481cc4540>\"\u001b[1;36m, line \u001b[1;32m6\u001b[0m\n\u001b[1;33m    return cnt\u001b[0m\n\u001b[1;37m    ^\u001b[0m\n\u001b[1;31mIndentationError\u001b[0m\u001b[1;31m:\u001b[0m expected an indented block\n"
     ]
    }
   ],
   "source": [
    "def countuppercase(str):\n",
    "    cnt=0\n",
    "    lst=list(str)\n",
    "    for x in range(len(lst)):\n",
    "        if ord(lst[x])>=65 and ord(lst[x])<=90:\n",
    "    return cnt\n",
    "str = input(\"enter a sting:\")\n",
    "countuppercase(str)\n",
    "            \n",
    "    "
   ]
  },
  {
   "cell_type": "code",
   "execution_count": null,
   "metadata": {},
   "outputs": [],
   "source": []
  }
 ],
 "metadata": {
  "kernelspec": {
   "display_name": "Python 3",
   "language": "python",
   "name": "python3"
  },
  "language_info": {
   "codemirror_mode": {
    "name": "ipython",
    "version": 3
   },
   "file_extension": ".py",
   "mimetype": "text/x-python",
   "name": "python",
   "nbconvert_exporter": "python",
   "pygments_lexer": "ipython3",
   "version": "3.7.3"
  }
 },
 "nbformat": 4,
 "nbformat_minor": 2
}
