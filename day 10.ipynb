{
 "cells": [
  {
   "cell_type": "code",
   "execution_count": 9,
   "metadata": {},
   "outputs": [
    {
     "name": "stdout",
     "output_type": "stream",
     "text": [
      "file is created successfully and data is written\n"
     ]
    }
   ],
   "source": [
    "def createfile(filename):\n",
    "    f = open(filename,\"w\")\n",
    "    for i in range(10):\n",
    "        f.write(\"this is %d line \\n\"%i)\n",
    "    print(\"file is created successfully and data is written\")\n",
    "    f.close()\n",
    "    return\n",
    "createfile(\"file1.txt\")"
   ]
  },
  {
   "cell_type": "code",
   "execution_count": 10,
   "metadata": {},
   "outputs": [
    {
     "name": "stdout",
     "output_type": "stream",
     "text": [
      "this is 0 line \n",
      "this is 1 line \n",
      "this is 2 line \n",
      "this is 3 line \n",
      "this is 4 line \n",
      "this is 5 line \n",
      "this is 6 line \n",
      "this is 7 line \n",
      "this is 8 line \n",
      "this is 9 line \n",
      "\n"
     ]
    }
   ],
   "source": [
    "def readfile(filename):\n",
    "    f=open(filename,\"r\")\n",
    "    if f.mode == \"r\":\n",
    "        x = f.read()\n",
    "        print(x)\n",
    "    f.close()\n",
    "    return\n",
    "readfile(\"file1.txt\")"
   ]
  },
  {
   "cell_type": "code",
   "execution_count": 13,
   "metadata": {},
   "outputs": [],
   "source": [
    "def appenddata(filename):\n",
    "    f=open(filename,\"a\")\n",
    "    f.write(\"new line 1\\n\")\n",
    "    f.write(\"new line\")\n",
    "    f.close()\n",
    "    return\n",
    "appenddata(\"file1.txt\")"
   ]
  },
  {
   "cell_type": "code",
   "execution_count": 12,
   "metadata": {},
   "outputs": [
    {
     "name": "stdout",
     "output_type": "stream",
     "text": [
      "0\n"
     ]
    }
   ],
   "source": [
    "def dataanalysiswordcount(filename,word):\n",
    "    f=open(filename,\"r\")\n",
    "    if f.mode == \"r\":\n",
    "        x = f.read()\n",
    "        lst = x.split()\n",
    "    cnt = lst.count(word)\n",
    "    return cnt\n",
    "print(dataanalysiswordcount(\"file1.txt\",\"rest\"))"
   ]
  },
  {
   "cell_type": "code",
   "execution_count": 14,
   "metadata": {},
   "outputs": [
    {
     "name": "stdout",
     "output_type": "stream",
     "text": [
      "True\n",
      "False\n"
     ]
    }
   ],
   "source": [
    "import re\n",
    "def validaterollnumber(number):\n",
    "    number = str(number)\n",
    "    pattern = \"^[1][5][2][U][1][A][0][1-9][0-6][0-9]$\";\n",
    "    if re.match(pattern,number):\n",
    "        return True\n",
    "    return False\n",
    "print(validaterollnumber(\"152U1A0555\"))\n",
    "print(validaterollnumber(\"152U1A0485\"))\n"
   ]
  },
  {
   "cell_type": "code",
   "execution_count": null,
   "metadata": {},
   "outputs": [],
   "source": [
    "import re\n",
    "def validatepassword(s):\n",
    "    pattern = \"^[a-Z]\""
   ]
  }
 ],
 "metadata": {
  "kernelspec": {
   "display_name": "Python 3",
   "language": "python",
   "name": "python3"
  },
  "language_info": {
   "codemirror_mode": {
    "name": "ipython",
    "version": 3
   },
   "file_extension": ".py",
   "mimetype": "text/x-python",
   "name": "python",
   "nbconvert_exporter": "python",
   "pygments_lexer": "ipython3",
   "version": "3.7.3"
  }
 },
 "nbformat": 4,
 "nbformat_minor": 2
}
